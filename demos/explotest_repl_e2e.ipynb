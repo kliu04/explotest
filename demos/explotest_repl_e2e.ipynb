{
 "cells": [
  {
   "cell_type": "code",
   "id": "initial_id",
   "metadata": {
    "collapsed": true,
    "ExecuteTime": {
     "end_time": "2025-06-02T20:48:47.962451Z",
     "start_time": "2025-06-02T20:48:47.945514Z"
    }
   },
   "source": [
    "\n",
    "%load_ext src.explotest.ipy"
   ],
   "outputs": [],
   "execution_count": 1
  },
  {
   "metadata": {
    "ExecuteTime": {
     "end_time": "2025-06-02T20:48:48.263139Z",
     "start_time": "2025-06-02T20:48:48.020758Z"
    }
   },
   "cell_type": "code",
   "source": [
    "from math import sin, pi\n",
    "\n",
    "import numpy as np\n",
    "import pandas as pd"
   ],
   "id": "b40a3db4f7f8e595",
   "outputs": [],
   "execution_count": 2
  },
  {
   "metadata": {
    "ExecuteTime": {
     "end_time": "2025-06-02T20:48:48.275950Z",
     "start_time": "2025-06-02T20:48:48.272424Z"
    }
   },
   "cell_type": "code",
   "source": "values = pd.read_csv(r\"../tests/data/A17.csv\", names=[r\"f\"])",
   "id": "c3d15a000b88df9e",
   "outputs": [],
   "execution_count": 3
  },
  {
   "metadata": {
    "ExecuteTime": {
     "end_time": "2025-06-02T20:48:48.285897Z",
     "start_time": "2025-06-02T20:48:48.283989Z"
    }
   },
   "cell_type": "code",
   "source": "n = values.iloc[-1].name",
   "id": "6bf72beb7ad251d8",
   "outputs": [],
   "execution_count": 4
  },
  {
   "metadata": {
    "ExecuteTime": {
     "end_time": "2025-06-02T20:48:48.298741Z",
     "start_time": "2025-06-02T20:48:48.297058Z"
    }
   },
   "cell_type": "code",
   "source": "dx = pi / n",
   "id": "1009b5de4e570590",
   "outputs": [],
   "execution_count": 5
  },
  {
   "metadata": {
    "ExecuteTime": {
     "end_time": "2025-06-02T20:48:48.308352Z",
     "start_time": "2025-06-02T20:48:48.306463Z"
    }
   },
   "cell_type": "code",
   "source": "x_axis = np.arange(0, np.pi + dx, dx)",
   "id": "1ee5460112800478",
   "outputs": [],
   "execution_count": 6
  },
  {
   "metadata": {
    "ExecuteTime": {
     "end_time": "2025-06-02T20:48:48.317767Z",
     "start_time": "2025-06-02T20:48:48.315727Z"
    }
   },
   "cell_type": "code",
   "source": "values['x'] = x_axis",
   "id": "5f2fbefd85fbdbef",
   "outputs": [],
   "execution_count": 7
  },
  {
   "metadata": {
    "ExecuteTime": {
     "end_time": "2025-06-02T20:48:48.328060Z",
     "start_time": "2025-06-02T20:48:48.325578Z"
    }
   },
   "cell_type": "code",
   "source": [
    "def tr_rule(f: pd.Series, x: pd.Series, dx: float, R: int):\n",
    "    return (\n",
    "            (2 / pi) * dx * (\n",
    "            (1 / 2 * f.iloc[0] * sin(R * x.iloc[0])) +\n",
    "            sum(f.iloc[1:-1] * (x.iloc[1:-1] * R).map(sin)) +\n",
    "            (1 / 2 * f.iloc[-1] * sin(R * x.iloc[-1]))\n",
    "    )\n",
    "    )"
   ],
   "id": "8ac25ec0870cd532",
   "outputs": [],
   "execution_count": 8
  },
  {
   "metadata": {
    "ExecuteTime": {
     "end_time": "2025-06-02T20:48:48.339455Z",
     "start_time": "2025-06-02T20:48:48.335528Z"
    }
   },
   "cell_type": "code",
   "source": "tr_rule(values['f'], values['x'], dx, 1)",
   "id": "4e93b2388eeb21ad",
   "outputs": [
    {
     "data": {
      "text/plain": [
       "np.float64(82.99999113727489)"
      ]
     },
     "execution_count": 9,
     "metadata": {},
     "output_type": "execute_result"
    }
   ],
   "execution_count": 9
  },
  {
   "metadata": {
    "ExecuteTime": {
     "end_time": "2025-06-02T20:48:48.369992Z",
     "start_time": "2025-06-02T20:48:48.364351Z"
    }
   },
   "cell_type": "code",
   "source": "%generate_tests -f test.py --lineno 9 --mode pickle",
   "id": "cd4522253f70fbfa",
   "outputs": [
    {
     "name": "stdout",
     "output_type": "stream",
     "text": [
      "Error on line: 1 invalid syntax, ignoring.\n",
      "Error on line: 10 invalid syntax, ignoring.\n"
     ]
    },
    {
     "data": {
      "text/plain": [
       "GeneratedTest(function_name='tr_rule', imports=[<ast.Import object at 0x1134fa550>, <ast.Import object at 0x113b2d890>, <ast.Import object at 0x113b2d990>], fixtures=[PyTestFixture(depends=[], parameter='f', body=[<ast.With object at 0x113b1bd10>], ret=<ast.Return object at 0x113b1bd90>), PyTestFixture(depends=[], parameter='x', body=[<ast.With object at 0x113b2cb90>], ret=<ast.Return object at 0x113b2cc50>), PyTestFixture(depends=[], parameter='dx', body=[<ast.Assign object at 0x113b2ccd0>], ret=<ast.Return object at 0x113b2ce10>), PyTestFixture(depends=[], parameter='R', body=[<ast.Assign object at 0x113b2cfd0>], ret=<ast.Return object at 0x113b2d110>)], act_phase=<ast.Assign object at 0x113b2d6d0>, asserts=[], definitions=[<ast.FunctionDef object at 0x113b16490>])"
      ]
     },
     "execution_count": 10,
     "metadata": {},
     "output_type": "execute_result"
    }
   ],
   "execution_count": 10
  },
  {
   "metadata": {
    "ExecuteTime": {
     "end_time": "2025-06-02T20:48:48.385897Z",
     "start_time": "2025-06-02T20:48:48.384354Z"
    }
   },
   "cell_type": "code",
   "source": "",
   "id": "6c64d7e8ec7bd42c",
   "outputs": [],
   "execution_count": null
  }
 ],
 "metadata": {
  "kernelspec": {
   "display_name": "Python 3",
   "language": "python",
   "name": "python3"
  },
  "language_info": {
   "codemirror_mode": {
    "name": "ipython",
    "version": 2
   },
   "file_extension": ".py",
   "mimetype": "text/x-python",
   "name": "python",
   "nbconvert_exporter": "python",
   "pygments_lexer": "ipython2",
   "version": "2.7.6"
  }
 },
 "nbformat": 4,
 "nbformat_minor": 5
}
