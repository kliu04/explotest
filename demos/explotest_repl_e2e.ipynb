{
 "cells": [
  {
   "cell_type": "code",
   "id": "initial_id",
   "metadata": {
    "collapsed": true,
    "ExecuteTime": {
     "end_time": "2025-05-27T17:06:57.606684Z",
     "start_time": "2025-05-27T17:06:57.585353Z"
    }
   },
   "source": [
    "import src.prototype_ipy_explotest\n",
    "%load_ext src.prototype_ipy_explotest"
   ],
   "outputs": [],
   "execution_count": 1
  },
  {
   "metadata": {
    "ExecuteTime": {
     "end_time": "2025-05-27T17:06:57.953447Z",
     "start_time": "2025-05-27T17:06:57.671450Z"
    }
   },
   "cell_type": "code",
   "source": [
    "from math import sin, pi\n",
    "import pandas as pd\n",
    "import numpy as np\n",
    "import dill"
   ],
   "id": "b40a3db4f7f8e595",
   "outputs": [],
   "execution_count": 2
  },
  {
   "metadata": {
    "ExecuteTime": {
     "end_time": "2025-05-27T17:06:57.967843Z",
     "start_time": "2025-05-27T17:06:57.963557Z"
    }
   },
   "cell_type": "code",
   "source": "values = pd.read_csv(r\"../test_data/A17.csv\", names=[r\"f\"])",
   "id": "c3d15a000b88df9e",
   "outputs": [],
   "execution_count": 3
  },
  {
   "metadata": {
    "ExecuteTime": {
     "end_time": "2025-05-27T17:06:57.977902Z",
     "start_time": "2025-05-27T17:06:57.976093Z"
    }
   },
   "cell_type": "code",
   "source": "n = values.iloc[-1].name",
   "id": "6bf72beb7ad251d8",
   "outputs": [],
   "execution_count": 4
  },
  {
   "metadata": {
    "ExecuteTime": {
     "end_time": "2025-05-27T17:06:57.990951Z",
     "start_time": "2025-05-27T17:06:57.988866Z"
    }
   },
   "cell_type": "code",
   "source": "dx = pi/n",
   "id": "1009b5de4e570590",
   "outputs": [],
   "execution_count": 5
  },
  {
   "metadata": {
    "ExecuteTime": {
     "end_time": "2025-05-27T17:06:58.006476Z",
     "start_time": "2025-05-27T17:06:58.004243Z"
    }
   },
   "cell_type": "code",
   "source": "x_axis = np.arange(0, np.pi + dx, dx)",
   "id": "1ee5460112800478",
   "outputs": [],
   "execution_count": 6
  },
  {
   "metadata": {
    "ExecuteTime": {
     "end_time": "2025-05-27T17:06:58.021138Z",
     "start_time": "2025-05-27T17:06:58.018515Z"
    }
   },
   "cell_type": "code",
   "source": "values['x'] = x_axis",
   "id": "5f2fbefd85fbdbef",
   "outputs": [],
   "execution_count": 7
  },
  {
   "metadata": {
    "ExecuteTime": {
     "end_time": "2025-05-27T17:06:58.043290Z",
     "start_time": "2025-05-27T17:06:58.040874Z"
    }
   },
   "cell_type": "code",
   "source": [
    "def tr_rule(f: pd.Series, x: pd.Series, dx: float, R: int):\n",
    "    return (\n",
    "        (2 / pi) * dx * (\n",
    "            (1/2 * f.iloc[0] * sin(R * x.iloc[0])) +\n",
    "            sum(f.iloc[1:-1] * (x.iloc[1:-1] * R).map(sin)) +\n",
    "            (1/2 * f.iloc[-1] * sin(R * x.iloc[-1]))\n",
    "        )\n",
    "    )"
   ],
   "id": "8ac25ec0870cd532",
   "outputs": [],
   "execution_count": 8
  },
  {
   "metadata": {
    "ExecuteTime": {
     "end_time": "2025-05-27T17:06:58.065126Z",
     "start_time": "2025-05-27T17:06:58.061167Z"
    }
   },
   "cell_type": "code",
   "source": "tr_rule(values['f'], values['x'], dx, 1)",
   "id": "4e93b2388eeb21ad",
   "outputs": [
    {
     "data": {
      "text/plain": [
       "np.float64(82.99999113727489)"
      ]
     },
     "execution_count": 9,
     "metadata": {},
     "output_type": "execute_result"
    }
   ],
   "execution_count": 9
  },
  {
   "metadata": {
    "ExecuteTime": {
     "end_time": "2025-05-27T17:06:58.092451Z",
     "start_time": "2025-05-27T17:06:58.085166Z"
    }
   },
   "cell_type": "code",
   "source": "%generate_tests_wrapped -f test.py --lineno 9",
   "id": "cd4522253f70fbfa",
   "outputs": [
    {
     "name": "stdout",
     "output_type": "stream",
     "text": [
      "Error on line: 1 invalid syntax, ignoring.\n",
      "Error on line: 10 invalid syntax, ignoring.\n"
     ]
    }
   ],
   "execution_count": 10
  }
 ],
 "metadata": {
  "kernelspec": {
   "display_name": "Python 3",
   "language": "python",
   "name": "python3"
  },
  "language_info": {
   "codemirror_mode": {
    "name": "ipython",
    "version": 2
   },
   "file_extension": ".py",
   "mimetype": "text/x-python",
   "name": "python",
   "nbconvert_exporter": "python",
   "pygments_lexer": "ipython2",
   "version": "2.7.6"
  }
 },
 "nbformat": 4,
 "nbformat_minor": 5
}
